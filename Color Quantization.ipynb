{
 "cells": [
  {
   "cell_type": "code",
   "execution_count": 27,
   "id": "2f48c8c8",
   "metadata": {},
   "outputs": [],
   "source": [
    "import numpy as np\n",
    "import cv2\n",
    "import matplotlib.pyplot as plt\n",
    "from sklearn.cluster import KMeans\n",
    "from sklearn.utils import shuffle"
   ]
  },
  {
   "cell_type": "code",
   "execution_count": 28,
   "id": "466e194d",
   "metadata": {},
   "outputs": [],
   "source": [
    "orig_image = cv2.imread('sample.jpg')"
   ]
  },
  {
   "cell_type": "code",
   "execution_count": 29,
   "id": "14279843",
   "metadata": {},
   "outputs": [],
   "source": [
    "image = np.array(orig_image,dtype=np.float64) / 255"
   ]
  },
  {
   "cell_type": "code",
   "execution_count": 30,
   "id": "df929b2d",
   "metadata": {},
   "outputs": [],
   "source": [
    "w, h, d = orig_shape = tuple(image.shape)"
   ]
  },
  {
   "cell_type": "code",
   "execution_count": 31,
   "id": "fca46ceb",
   "metadata": {},
   "outputs": [],
   "source": [
    "image_arr = np.reshape(image, (w * h, d))"
   ]
  },
  {
   "cell_type": "code",
   "execution_count": 32,
   "id": "391004fb",
   "metadata": {},
   "outputs": [],
   "source": [
    "sample_arr = shuffle(image_arr,random_state=0,n_samples=1000)"
   ]
  },
  {
   "cell_type": "code",
   "execution_count": 33,
   "id": "001873d4",
   "metadata": {},
   "outputs": [],
   "source": [
    "kmeans = KMeans(n_clusters=64, random_state=0).fit(sample_arr)"
   ]
  },
  {
   "cell_type": "code",
   "execution_count": 34,
   "id": "b24008a1",
   "metadata": {},
   "outputs": [],
   "source": [
    "labels = kmeans.predict(image_arr)"
   ]
  },
  {
   "cell_type": "code",
   "execution_count": 35,
   "id": "f26568c7",
   "metadata": {},
   "outputs": [],
   "source": [
    "re_created_image = kmeans.cluster_centers_[labels].reshape(w, h, -1)"
   ]
  },
  {
   "cell_type": "code",
   "execution_count": 36,
   "id": "0113f6b7",
   "metadata": {},
   "outputs": [
    {
     "name": "stdout",
     "output_type": "stream",
     "text": [
      "Image saved\n"
     ]
    }
   ],
   "source": [
    "normed = cv2.normalize(src=re_created_image,dst=None,alpha=0,beta=255,norm_type=cv2.NORM_MINMAX,dtype=cv2.CV_8U)\n",
    "cv2.imwrite(\"sample_quantized.png\",normed)\n",
    "\n",
    "print(\"Image saved\")"
   ]
  }
 ],
 "metadata": {
  "kernelspec": {
   "display_name": "TF Alpha",
   "language": "python",
   "name": "tf_alpha"
  },
  "language_info": {
   "codemirror_mode": {
    "name": "ipython",
    "version": 3
   },
   "file_extension": ".py",
   "mimetype": "text/x-python",
   "name": "python",
   "nbconvert_exporter": "python",
   "pygments_lexer": "ipython3",
   "version": "3.7.13"
  }
 },
 "nbformat": 4,
 "nbformat_minor": 5
}

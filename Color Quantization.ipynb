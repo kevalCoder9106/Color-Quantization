{
 "cells": [
  {
   "cell_type": "code",
   "execution_count": 14,
   "id": "2f48c8c8",
   "metadata": {},
   "outputs": [],
   "source": [
    "import numpy as np\n",
    "import cv2\n",
    "import matplotlib.pyplot as plt\n",
    "from sklearn.cluster import KMeans\n",
    "from sklearn.utils import shuffle"
   ]
  },
  {
   "cell_type": "code",
   "execution_count": 15,
   "id": "466e194d",
   "metadata": {},
   "outputs": [
    {
     "name": "stderr",
     "output_type": "stream",
     "text": [
      "[ WARN:0@96.782] global /io/opencv/modules/imgcodecs/src/loadsave.cpp (239) findDecoder imread_('hehe.jpg'): can't open/read file: check file path/integrity\n"
     ]
    }
   ],
   "source": [
    "orig_image = cv2.imread('hehe.png')"
   ]
  },
  {
   "cell_type": "code",
   "execution_count": 16,
   "id": "14279843",
   "metadata": {},
   "outputs": [],
   "source": [
    "image = np.array(orig_image,dtype=np.float64) / 255"
   ]
  },
  {
   "cell_type": "code",
   "execution_count": 17,
   "id": "df929b2d",
   "metadata": {},
   "outputs": [
    {
     "ename": "ValueError",
     "evalue": "not enough values to unpack (expected 3, got 0)",
     "output_type": "error",
     "traceback": [
      "\u001b[0;31m---------------------------------------------------------------------------\u001b[0m",
      "\u001b[0;31mValueError\u001b[0m                                Traceback (most recent call last)",
      "\u001b[0;32m/tmp/ipykernel_21788/4287287942.py\u001b[0m in \u001b[0;36m<module>\u001b[0;34m\u001b[0m\n\u001b[0;32m----> 1\u001b[0;31m \u001b[0mw\u001b[0m\u001b[0;34m,\u001b[0m \u001b[0mh\u001b[0m\u001b[0;34m,\u001b[0m \u001b[0md\u001b[0m \u001b[0;34m=\u001b[0m \u001b[0morig_shape\u001b[0m \u001b[0;34m=\u001b[0m \u001b[0mtuple\u001b[0m\u001b[0;34m(\u001b[0m\u001b[0mimage\u001b[0m\u001b[0;34m.\u001b[0m\u001b[0mshape\u001b[0m\u001b[0;34m)\u001b[0m\u001b[0;34m\u001b[0m\u001b[0;34m\u001b[0m\u001b[0m\n\u001b[0m",
      "\u001b[0;31mValueError\u001b[0m: not enough values to unpack (expected 3, got 0)"
     ]
    }
   ],
   "source": [
    "w, h, d = orig_shape = tuple(image.shape)"
   ]
  },
  {
   "cell_type": "code",
   "execution_count": null,
   "id": "fca46ceb",
   "metadata": {},
   "outputs": [],
   "source": [
    "image_arr = np.reshape(image, (w * h, d))"
   ]
  },
  {
   "cell_type": "code",
   "execution_count": null,
   "id": "391004fb",
   "metadata": {},
   "outputs": [],
   "source": [
    "sample_arr = shuffle(image_arr,random_state=0,n_samples=1000)"
   ]
  },
  {
   "cell_type": "code",
   "execution_count": null,
   "id": "001873d4",
   "metadata": {},
   "outputs": [],
   "source": [
    "kmeans = KMeans(n_clusters=64, random_state=0).fit(sample_arr)"
   ]
  },
  {
   "cell_type": "code",
   "execution_count": null,
   "id": "b24008a1",
   "metadata": {},
   "outputs": [],
   "source": [
    "labels = kmeans.predict(image_arr)"
   ]
  },
  {
   "cell_type": "code",
   "execution_count": null,
   "id": "f26568c7",
   "metadata": {},
   "outputs": [],
   "source": [
    "re_created_image = kmeans.cluster_centers_[labels].reshape(w, h, -1)"
   ]
  },
  {
   "cell_type": "code",
   "execution_count": null,
   "id": "0113f6b7",
   "metadata": {},
   "outputs": [],
   "source": [
    "normed = cv2.normalize(src=re_created_image,dst=None,alpha=0,beta=255,norm_type=cv2.NORM_MINMAX,dtype=cv2.CV_8U)\n",
    "cv2.imwrite(\"sample_quantized.png\",normed)\n",
    "\n",
    "print(\"Image saved\")"
   ]
  }
 ],
 "metadata": {
  "kernelspec": {
   "display_name": "TF Alpha",
   "language": "python",
   "name": "tf_alpha"
  },
  "language_info": {
   "codemirror_mode": {
    "name": "ipython",
    "version": 3
   },
   "file_extension": ".py",
   "mimetype": "text/x-python",
   "name": "python",
   "nbconvert_exporter": "python",
   "pygments_lexer": "ipython3",
   "version": "3.7.13"
  }
 },
 "nbformat": 4,
 "nbformat_minor": 5
}
